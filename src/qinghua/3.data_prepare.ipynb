{
 "cells": [
  {
   "cell_type": "code",
   "execution_count": 1,
   "metadata": {},
   "outputs": [
    {
     "ename": "ModuleNotFoundError",
     "evalue": "No module named 'SimpleITK'",
     "output_type": "error",
     "traceback": [
      "\u001b[1;31m---------------------------------------------------------------------------\u001b[0m",
      "\u001b[1;31mModuleNotFoundError\u001b[0m                       Traceback (most recent call last)",
      "\u001b[1;32m<ipython-input-1-82e9cebd60f1>\u001b[0m in \u001b[0;36m<module>\u001b[1;34m\u001b[0m\n\u001b[0;32m      2\u001b[0m \u001b[1;32mimport\u001b[0m \u001b[0mnumpy\u001b[0m \u001b[1;32mas\u001b[0m \u001b[0mnp\u001b[0m\u001b[1;33m\u001b[0m\u001b[1;33m\u001b[0m\u001b[0m\n\u001b[0;32m      3\u001b[0m \u001b[1;32mimport\u001b[0m \u001b[0mglob\u001b[0m\u001b[1;33m\u001b[0m\u001b[1;33m\u001b[0m\u001b[0m\n\u001b[1;32m----> 4\u001b[1;33m \u001b[1;32mimport\u001b[0m \u001b[0mSimpleITK\u001b[0m \u001b[1;32mas\u001b[0m \u001b[0msitk\u001b[0m\u001b[1;33m\u001b[0m\u001b[1;33m\u001b[0m\u001b[0m\n\u001b[0m\u001b[0;32m      5\u001b[0m \u001b[1;32mfrom\u001b[0m \u001b[0mtqdm\u001b[0m \u001b[1;32mimport\u001b[0m \u001b[0mtqdm\u001b[0m\u001b[1;33m\u001b[0m\u001b[1;33m\u001b[0m\u001b[0m\n\u001b[0;32m      6\u001b[0m \u001b[1;32mimport\u001b[0m \u001b[0mpydicom\u001b[0m\u001b[1;33m\u001b[0m\u001b[1;33m\u001b[0m\u001b[0m\n",
      "\u001b[1;31mModuleNotFoundError\u001b[0m: No module named 'SimpleITK'"
     ]
    }
   ],
   "source": [
    "#Removing less than 20\n",
    "import numpy as np\n",
    "import glob\n",
    "import SimpleITK as sitk\n",
    "from tqdm import tqdm\n",
    "import pydicom\n",
    "from skimage import measure, color\n",
    "import random\n",
    "\n",
    "file = glob.glob('./data/*')\n",
    "num=[]\n",
    "image = []\n",
    "mask = []\n",
    "imagefile = []\n",
    "maskfile = []\n",
    "\n",
    "for i in file:\n",
    "    mfile = glob.glob(i + '/*.nii.gz')\n",
    "    if len(mfile) == 0:\n",
    "        mfile = glob.glob(i + '/*.nii')\n",
    "    maskfile.append(mfile[0])\n",
    "\n",
    "for i in tqdm(range(len(file))):\n",
    "    dicomp=glob.glob(file[i]+'/*.dcm')\n",
    "    ds=sitk.ReadImage(dicomp[0])\n",
    "    files = file[i].replace('data', 'brain_data')\n",
    "    iii = sitk.ReadImage(files + '/image.nii.gz')\n",
    "    #    iii = sitk.Cast(iii, sitk.sitkFloat32)\n",
    "    #    img_mask = sitk.BinaryNot(sitk.BinaryThreshold(iii, 0, 0))\n",
    "    #    iii = sitk.N4BiasFieldCorrection(iii, img_mask)\n",
    "    ii = sitk.GetArrayFromImage(iii)\n",
    "    ii=np.clip(ii,0,2000)\n",
    "    m = sitk.ReadImage(maskfile[i])\n",
    "    mm = sitk.GetArrayFromImage(m)\n",
    "    unitVol=np.prod(ds.GetSpacing())\n",
    "    labels = measure.label(mm)\n",
    "    region = measure.regionprops(labels)\n",
    "    for j in region:\n",
    "        bbox = j.bbox\n",
    "        (x, y, z) = ((bbox[4] + bbox[1]) / 2, (bbox[5] + bbox[2]) / 2,\n",
    "                     (bbox[3] + bbox[0]) / 2)\n",
    "        (x, y, z) = (int(x), int(y), int(z))\n",
    "        counts=np.sum(mm[bbox[0]:bbox[-3],bbox[1]:bbox[-2],bbox[2]:bbox[-1]])\n",
    "        if counts*unitVol>20:       \n",
    "            if z - 40 <= 0:\n",
    "                p = ii[0:80, x - 64:x + 64, y - 64:y + 64]\n",
    "                pp = mm[0:80, x - 64:x + 64, y - 64:y + 64]\n",
    "            elif z + 40 >= len(mm):\n",
    "                p = ii[len(mm) - 80:len(mm), x - 64:x + 64, y - 64:y + 64]\n",
    "                pp = mm[len(mm) - 80:len(mm), x - 64:x + 64, y - 64:y + 64]\n",
    "            else:\n",
    "                p = ii[z - 40:z + 40, x - 64:x + 64, y - 64:y + 64]\n",
    "                pp = mm[z - 40:z + 40, x - 64:x + 64, y - 64:y + 64]\n",
    "\n",
    "            if np.any(pp[:,0:30,:])==1 or np.any(pp[:,100:128,:])==1 or np.any(pp[:,:,0:30])==1 or np.any(pp[:,:,100:128])==1:\n",
    "                xr=bbox[4]-x\n",
    "                yr=bbox[5]-y\n",
    "                xlim=(64-xr-15)\n",
    "                ylim=(64-yr-15)\n",
    "                xd=[i for i in range(x-xlim,x+xlim)]\n",
    "                random.shuffle(xd)\n",
    "                yd=[i for i in range(y-ylim,y+ylim)]\n",
    "                random.shuffle(yd)\n",
    "\n",
    "                for iy in xd:\n",
    "                    for jy in yd:\n",
    "                        if z - 40 <= 0:\n",
    "                            p = ii[0:80, iy - 64:iy + 64, jy - 64:jy + 64]\n",
    "                            pp = mm[0:80, iy - 64:iy + 64, jy - 64:jy + 64]\n",
    "                        elif z + 40 >= len(mm):\n",
    "                            p = ii[len(mm) - 80:len(mm), iy - 64:iy + 64, jy - 64:jy + 64]\n",
    "                            pp = mm[len(mm) - 80:len(mm), iy - 64:iy + 64, jy - 64:jy + 64]\n",
    "                        else:\n",
    "                            p = ii[z - 40:z + 40, iy - 64:iy + 64, jy - 64:jy + 64]\n",
    "                            pp = mm[z - 40:z + 40, iy - 64:iy + 64, jy - 64:jy + 64]\n",
    "\n",
    "                        if np.any(pp[:,0:30,:])==1 or np.any(pp[:,100:128,:])==1 or np.any(pp[:,:,0:30])==1 or np.any(pp[:,:,100:128])==1:\n",
    "                            pass\n",
    "                        else:\n",
    "                            break\n",
    "                    else:\n",
    "                        continue\n",
    "                    break\n",
    "                else:\n",
    "                    break\n",
    "\n",
    "            image.append(p)\n",
    "            mask.append(pp)\n",
    "\n",
    "iArr = np.zeros((len(image), 80, 128, 128))\n",
    "mArr = np.zeros((len(image), 80, 128, 128))\n",
    "for i in range(len(image)):\n",
    "    mean = np.mean(image[i])\n",
    "    std = np.std(image[i])\n",
    "    iArr[i, :, :, :] = (image[i] - mean) / (std)\n",
    "    mArr[i, :, :, :] = mask[i]\n",
    "del image\n",
    "del mask\n",
    "            \n",
    "from tqdm import tqdm\n",
    "from albumentations import (\n",
    "    PadIfNeeded,\n",
    "    HorizontalFlip,\n",
    "    VerticalFlip,    \n",
    "    CenterCrop,    \n",
    "    Crop,\n",
    "    Compose,\n",
    "    Transpose,\n",
    "    RandomRotate90,\n",
    "    ElasticTransform,\n",
    "    GridDistortion, \n",
    "    OpticalDistortion,\n",
    "    RandomSizedCrop,\n",
    "    OneOf,\n",
    "    CLAHE,\n",
    "    RandomContrast,\n",
    "    RandomGamma,\n",
    "    RandomBrightness,\n",
    "    ShiftScaleRotate,\n",
    "    Flip\n",
    ")\n",
    "\n",
    "sf = np.zeros((len(iArr),80,128,128))\n",
    "sfm = np.zeros((len(iArr),80,128,128))\n",
    "\n",
    "print('*'*30+'水平翻转开始'+'*'*30)\n",
    "\n",
    "for i in tqdm(range(len(iArr))):\n",
    "    image=iArr[i]\n",
    "    mask=mArr[i]\n",
    "    aug = HorizontalFlip(p=0.9)\n",
    "    augmented = aug(image=image, mask=mask)\n",
    "\n",
    "    image_h_flipped = augmented['image']\n",
    "    mask_h_flipped = augmented['mask']\n",
    "    sf[i]=image_h_flipped\n",
    "    sfm[i]=mask_h_flipped\n",
    "\n",
    "cf = np.zeros((len(iArr),80,128,128))\n",
    "cfm = np.zeros((len(iArr),80,128,128))\n",
    "\n",
    "print('*'*30+'垂直翻转开始'+'*'*30)\n",
    "for i in tqdm(range(len(iArr))):\n",
    "    image=iArr[i]\n",
    "    mask=mArr[i]\n",
    "    aug =VerticalFlip(p=0.9)\n",
    "    augmented = aug(image=image, mask=mask)\n",
    "\n",
    "    image_h_flipped = augmented['image']\n",
    "    mask_h_flipped = augmented['mask']\n",
    "    cf[i]=image_h_flipped\n",
    "    cfm[i]=mask_h_flipped\n",
    "\n",
    "print('*'*30+'弹性变换开始'+'*'*30)\n",
    "\n",
    "\n",
    "wg = np.zeros((len(iArr),80,128,128))\n",
    "wgm = np.zeros((len(iArr),80,128,128))\n",
    "for i in tqdm(range(len(iArr))):\n",
    "    image=iArr[i]\n",
    "    mask=mArr[i]\n",
    "    aug = GridDistortion(p=1)\n",
    "    augmented = aug(image=image, mask=mask)\n",
    "\n",
    "    image_h_flipped = augmented['image']\n",
    "    mask_h_flipped = augmented['mask']\n",
    "    wg[i]=image_h_flipped\n",
    "    wgm[i]=mask_h_flipped\n",
    "\n",
    " \n",
    "r = np.zeros((len(iArr),80,128,128))\n",
    "rm = np.zeros((len(iArr),80,128,128))\n",
    "for i in tqdm(range(len(iArr))):\n",
    "    image=iArr[i]\n",
    "    mask=mArr[i]\n",
    "    aug = ShiftScaleRotate(shift_limit=0.3, scale_limit=1e-9, rotate_limit=1e-9, p=1)\n",
    "    augmented = aug(image=image, mask=mask)\n",
    "\n",
    "    image_h_flipped = augmented['image']\n",
    "    mask_h_flipped = augmented['mask']\n",
    "    r[i]=image_h_flipped\n",
    "    rm[i]=mask_h_flipped\n",
    "\n",
    "rr = np.zeros((len(iArr),80,128,128))\n",
    "rrm = np.zeros((len(iArr),80,128,128))\n",
    "for i in tqdm(range(len(iArr))):\n",
    "    image=iArr[i]\n",
    "    mask=mArr[i]\n",
    "    aug = ShiftScaleRotate(shift_limit=1e-9, scale_limit=(-0.2,0.2), rotate_limit=1e-9, p=1)\n",
    "    augmented = aug(image=image, mask=mask)\n",
    "\n",
    "    image_h_flipped = augmented['image']\n",
    "    mask_h_flipped = augmented['mask']\n",
    "    rr[i]=image_h_flipped\n",
    "    rrm[i]=mask_h_flipped\n",
    "\n",
    "rrr = np.zeros((len(iArr),80,128,128))\n",
    "rrrm = np.zeros((len(iArr),80,128,128))\n",
    "for i in tqdm(range(len(iArr))):\n",
    "    image=iArr[i]\n",
    "    mask=mArr[i]\n",
    "    aug = ShiftScaleRotate(shift_limit=1e-9, scale_limit=1e-9, rotate_limit=(-45,45), p=1)\n",
    "    augmented = aug(image=image, mask=mask)\n",
    "\n",
    "    image_h_flipped = augmented['image']\n",
    "    mask_h_flipped = augmented['mask']\n",
    "    rrr[i]=image_h_flipped\n",
    "    rrrm[i]=mask_h_flipped\n",
    "    \n",
    "img=np.concatenate((iArr,sf,cf,wg,r,rr,rrr),axis=0) \n",
    "msk=np.concatenate((mArr,sfm,cfm,wgm,rm,rrm,rrrm),axis=0) \n",
    "\n",
    "fimage=np.ndarray([len(msk),1,80,128,128],dtype=np.float32)\n",
    "fmask=np.ndarray([len(msk),1,80,128,128],dtype=np.float32)\n",
    "for i in tqdm(range(len(msk))):\n",
    "#    min=np.mean(img[i])\n",
    "#    max=np.std(img[i])\n",
    "    fimage[i]=img[i]\n",
    "    fmask[i]=msk[i]\n",
    "\n",
    "rand_i = np.random.choice(range(len(fmask)),size=len(fmask),replace=False)\n",
    "finali=fimage[rand_i]\n",
    "finalm=fmask[rand_i]\n",
    "np.save('./3Dran.npy',finali)\n",
    "np.save('./3Dranm.npy',finalm)"
   ]
  },
  {
   "cell_type": "code",
   "execution_count": 1,
   "id": "5f2f925e",
   "metadata": {},
   "outputs": [
    {
     "name": "stderr",
     "output_type": "stream",
     "text": [
      "100%|██████████| 105/105 [06:56<00:00,  3.97s/it]\n"
     ]
    },
    {
     "name": "stdout",
     "output_type": "stream",
     "text": [
      "******************************水平翻转开始******************************\n"
     ]
    },
    {
     "name": "stderr",
     "output_type": "stream",
     "text": [
      "100%|██████████| 120/120 [00:00<00:00, 134.31it/s]\n"
     ]
    },
    {
     "name": "stdout",
     "output_type": "stream",
     "text": [
      "******************************垂直翻转开始******************************\n"
     ]
    },
    {
     "name": "stderr",
     "output_type": "stream",
     "text": [
      "100%|██████████| 120/120 [00:00<00:00, 156.83it/s]\n"
     ]
    },
    {
     "name": "stdout",
     "output_type": "stream",
     "text": [
      "******************************弹性变换开始******************************\n"
     ]
    },
    {
     "name": "stderr",
     "output_type": "stream",
     "text": [
      "100%|██████████| 120/120 [00:03<00:00, 33.89it/s]\n",
      "100%|██████████| 120/120 [00:03<00:00, 34.37it/s]\n",
      "100%|██████████| 120/120 [00:03<00:00, 36.69it/s]\n",
      "100%|██████████| 120/120 [00:03<00:00, 34.52it/s]\n",
      "100%|██████████| 840/840 [00:01<00:00, 421.29it/s]\n"
     ]
    }
   ],
   "source": [
    "#Removing less than 20 and 3D clahe\n",
    "import numpy as np\n",
    "import mclahe as mc\n",
    "import glob\n",
    "import SimpleITK as sitk\n",
    "from tqdm import tqdm\n",
    "import pydicom\n",
    "from skimage import measure, color\n",
    "import random\n",
    "\n",
    "file = glob.glob('./data/*')\n",
    "num=[]\n",
    "image = []\n",
    "mask = []\n",
    "imagefile = []\n",
    "maskfile = []\n",
    "\n",
    "for i in file:\n",
    "    mfile = glob.glob(i + '/*.nii.gz')\n",
    "    if len(mfile) == 0:\n",
    "        mfile = glob.glob(i + '/*.nii')\n",
    "    maskfile.append(mfile[0])\n",
    "\n",
    "for i in tqdm(range(len(file))):\n",
    "    dicomp=glob.glob(file[i]+'/*.dcm')\n",
    "    ds=sitk.ReadImage(dicomp[0])\n",
    "    files = file[i].replace('data', 'brain_data')\n",
    "    iii = sitk.ReadImage(files + '/image.nii.gz')\n",
    "    #    iii = sitk.Cast(iii, sitk.sitkFloat32)\n",
    "    #    img_mask = sitk.BinaryNot(sitk.BinaryThreshold(iii, 0, 0))\n",
    "    #    iii = sitk.N4BiasFieldCorrection(iii, img_mask)\n",
    "    ii = sitk.GetArrayFromImage(iii)\n",
    "    ii=np.clip(ii,0,2000)\n",
    "    m = sitk.ReadImage(maskfile[i])\n",
    "    mm = sitk.GetArrayFromImage(m)\n",
    "    unitVol=np.prod(ds.GetSpacing())\n",
    "    labels = measure.label(mm)\n",
    "    region = measure.regionprops(labels)\n",
    "    for j in region:\n",
    "        bbox = j.bbox\n",
    "        (x, y, z) = ((bbox[4] + bbox[1]) / 2, (bbox[5] + bbox[2]) / 2,\n",
    "                     (bbox[3] + bbox[0]) / 2)\n",
    "        (x, y, z) = (int(x), int(y), int(z))\n",
    "        counts=np.sum(mm[bbox[0]:bbox[-3],bbox[1]:bbox[-2],bbox[2]:bbox[-1]])\n",
    "        if counts*unitVol>20:       \n",
    "            if z - 40 <= 0:\n",
    "                p = ii[0:80, x - 64:x + 64, y - 64:y + 64]\n",
    "                pp = mm[0:80, x - 64:x + 64, y - 64:y + 64]\n",
    "            elif z + 40 >= len(mm):\n",
    "                p = ii[len(mm) - 80:len(mm), x - 64:x + 64, y - 64:y + 64]\n",
    "                pp = mm[len(mm) - 80:len(mm), x - 64:x + 64, y - 64:y + 64]\n",
    "            else:\n",
    "                p = ii[z - 40:z + 40, x - 64:x + 64, y - 64:y + 64]\n",
    "                pp = mm[z - 40:z + 40, x - 64:x + 64, y - 64:y + 64]\n",
    "\n",
    "            if np.any(pp[:,0:30,:])==1 or np.any(pp[:,100:128,:])==1 or np.any(pp[:,:,0:30])==1 or np.any(pp[:,:,100:128])==1:\n",
    "                xr=bbox[4]-x\n",
    "                yr=bbox[5]-y\n",
    "                xlim=(64-xr-15)\n",
    "                ylim=(64-yr-15)\n",
    "                xd=[i for i in range(x-xlim,x+xlim)]\n",
    "                random.shuffle(xd)\n",
    "                yd=[i for i in range(y-ylim,y+ylim)]\n",
    "                random.shuffle(yd)\n",
    "\n",
    "                for iy in xd:\n",
    "                    for jy in yd:\n",
    "                        if z - 40 <= 0:\n",
    "                            p = ii[0:80, iy - 64:iy + 64, jy - 64:jy + 64]\n",
    "                            pp = mm[0:80, iy - 64:iy + 64, jy - 64:jy + 64]\n",
    "                        elif z + 40 >= len(mm):\n",
    "                            p = ii[len(mm) - 80:len(mm), iy - 64:iy + 64, jy - 64:jy + 64]\n",
    "                            pp = mm[len(mm) - 80:len(mm), iy - 64:iy + 64, jy - 64:jy + 64]\n",
    "                        else:\n",
    "                            p = ii[z - 40:z + 40, iy - 64:iy + 64, jy - 64:jy + 64]\n",
    "                            pp = mm[z - 40:z + 40, iy - 64:iy + 64, jy - 64:jy + 64]\n",
    "\n",
    "                        if np.any(pp[:,0:30,:])==1 or np.any(pp[:,100:128,:])==1 or np.any(pp[:,:,0:30])==1 or np.any(pp[:,:,100:128])==1:\n",
    "                            pass\n",
    "                        else:\n",
    "                            break\n",
    "                    else:\n",
    "                        continue\n",
    "                    break\n",
    "                else:\n",
    "                    break\n",
    "            voxel=mc.mclahe(p,kernel_size=[16,84,84],n_bins=256,clip_limit=0.01)\n",
    "            image.append(voxel)\n",
    "            mask.append(pp)\n",
    "\n",
    "iArr = np.zeros((len(image), 80, 128, 128))\n",
    "mArr = np.zeros((len(image), 80, 128, 128))\n",
    "for i in range(len(image)):\n",
    "    mean = np.mean(image[i])\n",
    "    std = np.std(image[i])\n",
    "    iArr[i, :, :, :] = (image[i] - mean) / (std)\n",
    "    mArr[i, :, :, :] = mask[i]\n",
    "del image\n",
    "del mask\n",
    "            \n",
    "from tqdm import tqdm\n",
    "from albumentations import (\n",
    "    PadIfNeeded,\n",
    "    HorizontalFlip,\n",
    "    VerticalFlip,    \n",
    "    CenterCrop,    \n",
    "    Crop,\n",
    "    Compose,\n",
    "    Transpose,\n",
    "    RandomRotate90,\n",
    "    ElasticTransform,\n",
    "    GridDistortion, \n",
    "    OpticalDistortion,\n",
    "    RandomSizedCrop,\n",
    "    OneOf,\n",
    "    CLAHE,\n",
    "    RandomContrast,\n",
    "    RandomGamma,\n",
    "    RandomBrightness,\n",
    "    ShiftScaleRotate,\n",
    "    Flip\n",
    ")\n",
    "\n",
    "sf = np.zeros((len(iArr),80,128,128))\n",
    "sfm = np.zeros((len(iArr),80,128,128))\n",
    "\n",
    "print('*'*30+'水平翻转开始'+'*'*30)\n",
    "\n",
    "for i in tqdm(range(len(iArr))):\n",
    "    image=iArr[i]\n",
    "    mask=mArr[i]\n",
    "    aug = HorizontalFlip(p=0.9)\n",
    "    augmented = aug(image=image, mask=mask)\n",
    "\n",
    "    image_h_flipped = augmented['image']\n",
    "    mask_h_flipped = augmented['mask']\n",
    "    sf[i]=image_h_flipped\n",
    "    sfm[i]=mask_h_flipped\n",
    "\n",
    "cf = np.zeros((len(iArr),80,128,128))\n",
    "cfm = np.zeros((len(iArr),80,128,128))\n",
    "\n",
    "print('*'*30+'垂直翻转开始'+'*'*30)\n",
    "for i in tqdm(range(len(iArr))):\n",
    "    image=iArr[i]\n",
    "    mask=mArr[i]\n",
    "    aug =VerticalFlip(p=0.9)\n",
    "    augmented = aug(image=image, mask=mask)\n",
    "\n",
    "    image_h_flipped = augmented['image']\n",
    "    mask_h_flipped = augmented['mask']\n",
    "    cf[i]=image_h_flipped\n",
    "    cfm[i]=mask_h_flipped\n",
    "\n",
    "print('*'*30+'弹性变换开始'+'*'*30)\n",
    "\n",
    "\n",
    "wg = np.zeros((len(iArr),80,128,128))\n",
    "wgm = np.zeros((len(iArr),80,128,128))\n",
    "for i in tqdm(range(len(iArr))):\n",
    "    image=iArr[i]\n",
    "    mask=mArr[i]\n",
    "    aug = GridDistortion(p=1)\n",
    "    augmented = aug(image=image, mask=mask)\n",
    "\n",
    "    image_h_flipped = augmented['image']\n",
    "    mask_h_flipped = augmented['mask']\n",
    "    wg[i]=image_h_flipped\n",
    "    wgm[i]=mask_h_flipped\n",
    "\n",
    " \n",
    "r = np.zeros((len(iArr),80,128,128))\n",
    "rm = np.zeros((len(iArr),80,128,128))\n",
    "for i in tqdm(range(len(iArr))):\n",
    "    image=iArr[i]\n",
    "    mask=mArr[i]\n",
    "    aug = ShiftScaleRotate(shift_limit=0.3, scale_limit=1e-9, rotate_limit=1e-9, p=1)\n",
    "    augmented = aug(image=image, mask=mask)\n",
    "\n",
    "    image_h_flipped = augmented['image']\n",
    "    mask_h_flipped = augmented['mask']\n",
    "    r[i]=image_h_flipped\n",
    "    rm[i]=mask_h_flipped\n",
    "\n",
    "rr = np.zeros((len(iArr),80,128,128))\n",
    "rrm = np.zeros((len(iArr),80,128,128))\n",
    "for i in tqdm(range(len(iArr))):\n",
    "    image=iArr[i]\n",
    "    mask=mArr[i]\n",
    "    aug = ShiftScaleRotate(shift_limit=1e-9, scale_limit=(-0.2,0.2), rotate_limit=1e-9, p=1)\n",
    "    augmented = aug(image=image, mask=mask)\n",
    "\n",
    "    image_h_flipped = augmented['image']\n",
    "    mask_h_flipped = augmented['mask']\n",
    "    rr[i]=image_h_flipped\n",
    "    rrm[i]=mask_h_flipped\n",
    "\n",
    "rrr = np.zeros((len(iArr),80,128,128))\n",
    "rrrm = np.zeros((len(iArr),80,128,128))\n",
    "for i in tqdm(range(len(iArr))):\n",
    "    image=iArr[i]\n",
    "    mask=mArr[i]\n",
    "    aug = ShiftScaleRotate(shift_limit=1e-9, scale_limit=1e-9, rotate_limit=(-45,45), p=1)\n",
    "    augmented = aug(image=image, mask=mask)\n",
    "\n",
    "    image_h_flipped = augmented['image']\n",
    "    mask_h_flipped = augmented['mask']\n",
    "    rrr[i]=image_h_flipped\n",
    "    rrrm[i]=mask_h_flipped\n",
    "    \n",
    "img=np.concatenate((iArr,sf,cf,wg,r,rr,rrr),axis=0) \n",
    "msk=np.concatenate((mArr,sfm,cfm,wgm,rm,rrm,rrrm),axis=0) \n",
    "\n",
    "fimage=np.ndarray([len(msk),1,80,128,128],dtype=np.float32)\n",
    "fmask=np.ndarray([len(msk),1,80,128,128],dtype=np.float32)\n",
    "for i in tqdm(range(len(msk))):\n",
    "#    min=np.mean(img[i])\n",
    "#    max=np.std(img[i])\n",
    "    fimage[i]=img[i]\n",
    "    fmask[i]=msk[i]\n",
    "\n",
    "rand_i = np.random.choice(range(len(fmask)),size=len(fmask),replace=False)\n",
    "finali=fimage[rand_i]\n",
    "finalm=fmask[rand_i]\n",
    "np.save('./3Dclahe.npy',finali)\n",
    "np.save('./3Dclahem.npy',finalm)"
   ]
  },
  {
   "cell_type": "code",
   "execution_count": 7,
   "id": "899625e4",
   "metadata": {},
   "outputs": [
    {
     "data": {
      "image/png": "[encoded data removed]",
      "text/plain": [
       "<Figure size 576x576 with 4 Axes>"
      ]
     },
     "metadata": {
      "needs_background": "light"
     },
     "output_type": "display_data"
    }
   ],
   "source": [
    "from matplotlib.animation import FuncAnimation, writers\n",
    "import matplotlib.pyplot as plt\n",
    "import os \n",
    "\n",
    "one=finali[50,0,:,:]\n",
    "two=finalm[50,0,:,:]\n",
    "three=finali[500,0,:,:]\n",
    "four=finalm[500,0,:,:]\n",
    "fig,ax=plt.subplots(2,2,figsize=(8,8))\n",
    "def init():\n",
    "    ax[0][0].imshow(one[0],'gray')\n",
    "    ax[0][0].axis('off')\n",
    "    ax[0][1].imshow(two[0],'gray')\n",
    "    ax[0][1].axis('off')\n",
    "    ax[1][0].imshow(three[0],'gray')\n",
    "    ax[1][0].axis('off')\n",
    "    ax[1][1].imshow(four[0],'gray')\n",
    "    ax[1][1].axis('off')\n",
    "\n",
    "def update(n):\n",
    "    ax[0][0].clear()\n",
    "    ax[0][0].imshow(one[n],'gray')\n",
    "    ax[0][0].axis('off')\n",
    "    ax[0][1].clear()\n",
    "    ax[0][1].imshow(two[n],'gray')\n",
    "    ax[0][1].axis('off')\n",
    "    ax[1][0].clear()\n",
    "    ax[1][0].imshow(three[n],'gray')\n",
    "    ax[1][0].axis('off')\n",
    "    ax[1][1].clear()\n",
    "    ax[1][1].imshow(four[n],'gray')\n",
    "    ax[1][1].axis('off')\n",
    "ani=FuncAnimation(fig,update,frames=range(len(p)),interval=1000)\n",
    "plt.show()\n",
    "ani.save('./test.gif', writer='imagemagick', fps=3000)       "
   ]
  },
  {
   "cell_type": "code",
   "execution_count": 1,
   "metadata": {},
   "outputs": [
    {
     "name": "stderr",
     "output_type": "stream",
     "text": [
      "100%|████████████████████████████████████████████████████████████████████████████████| 115/115 [06:44<00:00,  3.51s/it]\n",
      " 10%|████████                                                                        | 15/150 [00:00<00:00, 142.14it/s]"
     ]
    },
    {
     "name": "stdout",
     "output_type": "stream",
     "text": [
      "******************************水平翻转开始******************************\n"
     ]
    },
    {
     "name": "stderr",
     "output_type": "stream",
     "text": [
      "100%|███████████████████████████████████████████████████████████████████████████████| 150/150 [00:01<00:00, 132.04it/s]\n",
      " 11%|████████▌                                                                       | 16/150 [00:00<00:00, 155.11it/s]"
     ]
    },
    {
     "name": "stdout",
     "output_type": "stream",
     "text": [
      "******************************垂直翻转开始******************************\n"
     ]
    },
    {
     "name": "stderr",
     "output_type": "stream",
     "text": [
      "100%|███████████████████████████████████████████████████████████████████████████████| 150/150 [00:00<00:00, 150.71it/s]\n",
      "  3%|██▏                                                                               | 4/150 [00:00<00:04, 33.95it/s]"
     ]
    },
    {
     "name": "stdout",
     "output_type": "stream",
     "text": [
      "******************************弹性变换开始******************************\n"
     ]
    },
    {
     "name": "stderr",
     "output_type": "stream",
     "text": [
      "100%|████████████████████████████████████████████████████████████████████████████████| 150/150 [00:04<00:00, 33.56it/s]\n",
      "100%|████████████████████████████████████████████████████████████████████████████████| 150/150 [00:04<00:00, 32.28it/s]\n",
      "100%|████████████████████████████████████████████████████████████████████████████████| 150/150 [00:04<00:00, 33.32it/s]\n",
      "100%|████████████████████████████████████████████████████████████████████████████████| 150/150 [00:04<00:00, 32.51it/s]\n",
      "100%|█████████████████████████████████████████████████████████████████████████████| 1050/1050 [00:02<00:00, 382.43it/s]\n"
     ]
    }
   ],
   "source": [
    "#最初没有去除小于20的动脉瘤\n",
    "import numpy as np\n",
    "import glob\n",
    "import SimpleITK as sitk\n",
    "from tqdm import tqdm\n",
    "import pydicom\n",
    "from skimage import measure, color\n",
    "import random\n",
    "\n",
    "file = glob.glob('./data/*')\n",
    "num=[]\n",
    "image = []\n",
    "mask = []\n",
    "imagefile = []\n",
    "maskfile = []\n",
    "\n",
    "for i in file:\n",
    "    mfile = glob.glob(i + '/*.nii.gz')\n",
    "    if len(mfile) == 0:\n",
    "        mfile = glob.glob(i + '/*.nii')\n",
    "    maskfile.append(mfile[0])\n",
    "\n",
    "for i in tqdm(range(len(file))):\n",
    "    dicomp=glob.glob(file[i]+'/*.dcm')\n",
    "    ds=pydicom.read_file(dicomp[0])\n",
    "    files = file[i].replace('data', 'brain_data')\n",
    "    iii = sitk.ReadImage(files + '/image.nii.gz')\n",
    "    #    iii = sitk.Cast(iii, sitk.sitkFloat32)\n",
    "    #    img_mask = sitk.BinaryNot(sitk.BinaryThreshold(iii, 0, 0))\n",
    "    #    iii = sitk.N4BiasFieldCorrection(iii, img_mask)\n",
    "    ii = sitk.GetArrayFromImage(iii)\n",
    "    ii=np.clip(ii,0,2000)\n",
    "    m = sitk.ReadImage(maskfile[i])\n",
    "    mm = sitk.GetArrayFromImage(m)\n",
    "    labels = measure.label(mm)\n",
    "    region = measure.regionprops(labels)\n",
    "    for j in region:\n",
    "        bbox = j.bbox\n",
    "        (x, y, z) = ((bbox[4] + bbox[1]) / 2, (bbox[5] + bbox[2]) / 2,\n",
    "                     (bbox[3] + bbox[0]) / 2)\n",
    "        (x, y, z) = (int(x), int(y), int(z))\n",
    "        \n",
    "        if z - 40 <= 0:\n",
    "            p = ii[0:80, x - 64:x + 64, y - 64:y + 64]\n",
    "            pp = mm[0:80, x - 64:x + 64, y - 64:y + 64]\n",
    "        elif z + 40 >= len(mm):\n",
    "            p = ii[len(mm) - 80:len(mm), x - 64:x + 64, y - 64:y + 64]\n",
    "            pp = mm[len(mm) - 80:len(mm), x - 64:x + 64, y - 64:y + 64]\n",
    "        else:\n",
    "            p = ii[z - 40:z + 40, x - 64:x + 64, y - 64:y + 64]\n",
    "            pp = mm[z - 40:z + 40, x - 64:x + 64, y - 64:y + 64]\n",
    "        \n",
    "        if np.any(pp[:,0:30,:])==1 or np.any(pp[:,100:128,:])==1 or np.any(pp[:,:,0:30])==1 or np.any(pp[:,:,100:128])==1:\n",
    "            xr=bbox[4]-x\n",
    "            yr=bbox[5]-y\n",
    "            xlim=(64-xr-15)\n",
    "            ylim=(64-yr-15)\n",
    "            xd=[i for i in range(x-xlim,x+xlim)]\n",
    "            random.shuffle(xd)\n",
    "            yd=[i for i in range(y-ylim,y+ylim)]\n",
    "            random.shuffle(yd)\n",
    "            \n",
    "            for iy in xd:\n",
    "                for jy in yd:\n",
    "                    if z - 40 <= 0:\n",
    "                        p = ii[0:80, iy - 64:iy + 64, jy - 64:jy + 64]\n",
    "                        pp = mm[0:80, iy - 64:iy + 64, jy - 64:jy + 64]\n",
    "                    elif z + 40 >= len(mm):\n",
    "                        p = ii[len(mm) - 80:len(mm), iy - 64:iy + 64, jy - 64:jy + 64]\n",
    "                        pp = mm[len(mm) - 80:len(mm), iy - 64:iy + 64, jy - 64:jy + 64]\n",
    "                    else:\n",
    "                        p = ii[z - 40:z + 40, iy - 64:iy + 64, jy - 64:jy + 64]\n",
    "                        pp = mm[z - 40:z + 40, iy - 64:iy + 64, jy - 64:jy + 64]\n",
    "                        \n",
    "                    if np.any(pp[:,0:30,:])==1 or np.any(pp[:,100:128,:])==1 or np.any(pp[:,:,0:30])==1 or np.any(pp[:,:,100:128])==1:\n",
    "                        pass\n",
    "                    else:\n",
    "                        break\n",
    "                else:\n",
    "                    continue\n",
    "                break\n",
    "            else:\n",
    "                break\n",
    "            \n",
    "        image.append(p)\n",
    "        mask.append(pp)\n",
    "\n",
    "iArr = np.zeros((len(image), 80, 128, 128))\n",
    "mArr = np.zeros((len(image), 80, 128, 128))\n",
    "for i in range(len(image)):\n",
    "    mean = np.mean(image[i])\n",
    "    std = np.std(image[i])\n",
    "    iArr[i, :, :, :] = (image[i] - mean) / (std)\n",
    "    mArr[i, :, :, :] = mask[i]\n",
    "del image\n",
    "del mask\n",
    "            \n",
    "from tqdm import tqdm\n",
    "from albumentations import (\n",
    "    PadIfNeeded,\n",
    "    HorizontalFlip,\n",
    "    VerticalFlip,    \n",
    "    CenterCrop,    \n",
    "    Crop,\n",
    "    Compose,\n",
    "    Transpose,\n",
    "    RandomRotate90,\n",
    "    ElasticTransform,\n",
    "    GridDistortion, \n",
    "    OpticalDistortion,\n",
    "    RandomSizedCrop,\n",
    "    OneOf,\n",
    "    CLAHE,\n",
    "    RandomContrast,\n",
    "    RandomGamma,\n",
    "    RandomBrightness,\n",
    "    ShiftScaleRotate,\n",
    "    Flip\n",
    ")\n",
    "\n",
    "sf = np.zeros((len(iArr),80,128,128))\n",
    "sfm = np.zeros((len(iArr),80,128,128))\n",
    "\n",
    "print('*'*30+'水平翻转开始'+'*'*30)\n",
    "\n",
    "for i in tqdm(range(len(iArr))):\n",
    "    image=iArr[i]\n",
    "    mask=mArr[i]\n",
    "    aug = HorizontalFlip(p=0.9)\n",
    "    augmented = aug(image=image, mask=mask)\n",
    "\n",
    "    image_h_flipped = augmented['image']\n",
    "    mask_h_flipped = augmented['mask']\n",
    "    sf[i]=image_h_flipped\n",
    "    sfm[i]=mask_h_flipped\n",
    "\n",
    "cf = np.zeros((len(iArr),80,128,128))\n",
    "cfm = np.zeros((len(iArr),80,128,128))\n",
    "\n",
    "print('*'*30+'垂直翻转开始'+'*'*30)\n",
    "for i in tqdm(range(len(iArr))):\n",
    "    image=iArr[i]\n",
    "    mask=mArr[i]\n",
    "    aug =VerticalFlip(p=0.9)\n",
    "    augmented = aug(image=image, mask=mask)\n",
    "\n",
    "    image_h_flipped = augmented['image']\n",
    "    mask_h_flipped = augmented['mask']\n",
    "    cf[i]=image_h_flipped\n",
    "    cfm[i]=mask_h_flipped\n",
    "\n",
    "print('*'*30+'弹性变换开始'+'*'*30)\n",
    "\n",
    "\n",
    "wg = np.zeros((len(iArr),80,128,128))\n",
    "wgm = np.zeros((len(iArr),80,128,128))\n",
    "for i in tqdm(range(len(iArr))):\n",
    "    image=iArr[i]\n",
    "    mask=mArr[i]\n",
    "    aug = GridDistortion(p=1)\n",
    "    augmented = aug(image=image, mask=mask)\n",
    "\n",
    "    image_h_flipped = augmented['image']\n",
    "    mask_h_flipped = augmented['mask']\n",
    "    wg[i]=image_h_flipped\n",
    "    wgm[i]=mask_h_flipped\n",
    "\n",
    " \n",
    "r = np.zeros((len(iArr),80,128,128))\n",
    "rm = np.zeros((len(iArr),80,128,128))\n",
    "for i in tqdm(range(len(iArr))):\n",
    "    image=iArr[i]\n",
    "    mask=mArr[i]\n",
    "    aug = ShiftScaleRotate(shift_limit=0.3, scale_limit=1e-9, rotate_limit=1e-9, p=1)\n",
    "    augmented = aug(image=image, mask=mask)\n",
    "\n",
    "    image_h_flipped = augmented['image']\n",
    "    mask_h_flipped = augmented['mask']\n",
    "    r[i]=image_h_flipped\n",
    "    rm[i]=mask_h_flipped\n",
    "\n",
    "rr = np.zeros((len(iArr),80,128,128))\n",
    "rrm = np.zeros((len(iArr),80,128,128))\n",
    "for i in tqdm(range(len(iArr))):\n",
    "    image=iArr[i]\n",
    "    mask=mArr[i]\n",
    "    aug = ShiftScaleRotate(shift_limit=1e-9, scale_limit=(-0.2,0.2), rotate_limit=1e-9, p=1)\n",
    "    augmented = aug(image=image, mask=mask)\n",
    "\n",
    "    image_h_flipped = augmented['image']\n",
    "    mask_h_flipped = augmented['mask']\n",
    "    rr[i]=image_h_flipped\n",
    "    rrm[i]=mask_h_flipped\n",
    "\n",
    "rrr = np.zeros((len(iArr),80,128,128))\n",
    "rrrm = np.zeros((len(iArr),80,128,128))\n",
    "for i in tqdm(range(len(iArr))):\n",
    "    image=iArr[i]\n",
    "    mask=mArr[i]\n",
    "    aug = ShiftScaleRotate(shift_limit=1e-9, scale_limit=1e-9, rotate_limit=(-45,45), p=1)\n",
    "    augmented = aug(image=image, mask=mask)\n",
    "\n",
    "    image_h_flipped = augmented['image']\n",
    "    mask_h_flipped = augmented['mask']\n",
    "    rrr[i]=image_h_flipped\n",
    "    rrrm[i]=mask_h_flipped\n",
    "    \n",
    "img=np.concatenate((iArr,sf,cf,wg,r,rr,rrr),axis=0) \n",
    "msk=np.concatenate((mArr,sfm,cfm,wgm,rm,rrm,rrrm),axis=0) \n",
    "\n",
    "fimage=np.ndarray([len(msk),1,80,128,128],dtype=np.float32)\n",
    "fmask=np.ndarray([len(msk),1,80,128,128],dtype=np.float32)\n",
    "for i in tqdm(range(len(msk))):\n",
    "#    min=np.mean(img[i])\n",
    "#    max=np.std(img[i])\n",
    "    fimage[i]=img[i]\n",
    "    fmask[i]=msk[i]\n",
    "\n",
    "rand_i = np.random.choice(range(len(fmask)),size=len(fmask),replace=False)\n",
    "finali=fimage[rand_i]\n",
    "finalm=fmask[rand_i]\n",
    "np.save('./3Dran.npy',finali)\n",
    "np.save('./3Dranm.npy',finalm)\n",
    "\n",
    "\n",
    "#import matplotlib.pyplot as plt\n",
    "#import imageio\n",
    "#\n",
    "#for k in range(len(mArr)):\n",
    "#    image=[]\n",
    "#    for i in range(80):\n",
    "#        if np.any(mArr[k,i]>0):\n",
    "#            image.append(mArr[k,i,:,:]*255)\n",
    "#    imageio.mimsave('./visuale/sf/'+str(k)+'.gif', image, 'GIF', duration=1)  "
   ]
  },
  {
   "cell_type": "code",
   "execution_count": 36,
   "metadata": {},
   "outputs": [],
   "source": [
    "import numpy as np\n",
    "import glob\n",
    "import numpy as np\n",
    "import glob\n",
    "import SimpleITK as sitk\n",
    "from tqdm import tqdm\n",
    "import pydicom\n",
    "from skimage import measure, color\n",
    "import random\n",
    "from skimage import measure\n",
    "\n",
    "file = glob.glob('./data/*')\n",
    "num=[]\n",
    "image = []\n",
    "mask = []\n",
    "imagefile = []\n",
    "maskfile = []\n",
    "q1=0\n",
    "q2=0\n",
    "q3=0\n",
    "q4=0\n",
    "\n",
    "for i in file:\n",
    "    mfile = glob.glob(i + '/*.nii.gz')\n",
    "    if len(mfile) == 0:\n",
    "        mfile = glob.glob(i + '/*.nii')\n",
    "    maskfile.append(mfile[0])\n",
    "\n",
    "for i in maskfile:\n",
    "    mask=sitk.ReadImage(i)\n",
    "    mask=sitk.GetArrayFromImage(mask)\n",
    "    labels=measure.label(mask)\n",
    "    region=measure.regionprops(labels)\n",
    "    for j in region:\n",
    "        bbox=j.bbox\n",
    "        counts=np.sum(mask[bbox[0]:bbox[-3],bbox[1]:bbox[-2],bbox[2]:bbox[-1]])\n",
    "        unitVol=0.3*0.3*0.3\n",
    "        if unitVol*counts<100:\n",
    "            q1+=1\n",
    "        elif 100<=unitVol*counts<=400:\n",
    "            q2+=1\n",
    "        elif 400<unitVol*counts<1000:\n",
    "            q3+=1\n",
    "        elif unitVol*counts>=1000:\n",
    "            q4+=1\n",
    "    "
   ]
  },
  {
   "cell_type": "code",
   "execution_count": 5,
   "metadata": {},
   "outputs": [
    {
     "name": "stderr",
     "output_type": "stream",
     "text": [
      "  4%|▎         | 4/113 [00:08<03:59,  2.19s/it]"
     ]
    },
    {
     "name": "stdout",
     "output_type": "stream",
     "text": [
      "./brain_data/humingfeng\n"
     ]
    },
    {
     "name": "stderr",
     "output_type": "stream",
     "text": [
      "  6%|▌         | 7/113 [00:15<03:56,  2.23s/it]"
     ]
    },
    {
     "name": "stdout",
     "output_type": "stream",
     "text": [
      "./brain_data/lijinlan\n"
     ]
    },
    {
     "name": "stderr",
     "output_type": "stream",
     "text": [
      "\r\n",
      "  7%|▋         | 8/113 [00:17<03:51,  2.20s/it]"
     ]
    },
    {
     "name": "stdout",
     "output_type": "stream",
     "text": [
      "./brain_data/LIFUSHENG\n"
     ]
    },
    {
     "name": "stderr",
     "output_type": "stream",
     "text": [
      "  9%|▉         | 10/113 [00:22<03:42,  2.16s/it]"
     ]
    },
    {
     "name": "stdout",
     "output_type": "stream",
     "text": [
      "./brain_data/sunjiazhi\n"
     ]
    },
    {
     "name": "stderr",
     "output_type": "stream",
     "text": [
      " 12%|█▏        | 14/113 [00:31<03:40,  2.22s/it]"
     ]
    },
    {
     "name": "stdout",
     "output_type": "stream",
     "text": [
      "./brain_data/huminhua\n"
     ]
    },
    {
     "name": "stderr",
     "output_type": "stream",
     "text": [
      " 15%|█▌        | 17/113 [00:37<03:28,  2.17s/it]"
     ]
    },
    {
     "name": "stdout",
     "output_type": "stream",
     "text": [
      "./brain_data/shenchangxiang\n"
     ]
    },
    {
     "name": "stderr",
     "output_type": "stream",
     "text": [
      " 17%|█▋        | 19/113 [00:41<03:22,  2.16s/it]"
     ]
    },
    {
     "name": "stdout",
     "output_type": "stream",
     "text": [
      "./brain_data/LISUYUN\n"
     ]
    },
    {
     "name": "stderr",
     "output_type": "stream",
     "text": [
      " 23%|██▎       | 26/113 [00:56<03:04,  2.12s/it]"
     ]
    },
    {
     "name": "stdout",
     "output_type": "stream",
     "text": [
      "./brain_data/dingjilan\n"
     ]
    },
    {
     "name": "stderr",
     "output_type": "stream",
     "text": [
      " 25%|██▍       | 28/113 [01:01<03:00,  2.13s/it]"
     ]
    },
    {
     "name": "stdout",
     "output_type": "stream",
     "text": [
      "./brain_data/wangdengyun\n"
     ]
    },
    {
     "name": "stderr",
     "output_type": "stream",
     "text": [
      " 27%|██▋       | 30/113 [01:05<02:56,  2.13s/it]"
     ]
    },
    {
     "name": "stdout",
     "output_type": "stream",
     "text": [
      "./brain_data/weipingzhen\n"
     ]
    },
    {
     "name": "stderr",
     "output_type": "stream",
     "text": [
      " 28%|██▊       | 32/113 [01:09<02:50,  2.11s/it]"
     ]
    },
    {
     "name": "stdout",
     "output_type": "stream",
     "text": [
      "./brain_data/mengxiangfeng\n"
     ]
    },
    {
     "name": "stderr",
     "output_type": "stream",
     "text": [
      " 33%|███▎      | 37/113 [01:20<02:48,  2.21s/it]"
     ]
    },
    {
     "name": "stdout",
     "output_type": "stream",
     "text": [
      "./brain_data/DONGJILIAN\n"
     ]
    },
    {
     "name": "stderr",
     "output_type": "stream",
     "text": [
      "\r\n",
      " 34%|███▎      | 38/113 [01:22<02:39,  2.12s/it]"
     ]
    },
    {
     "name": "stdout",
     "output_type": "stream",
     "text": [
      "./brain_data/HANCHENGXI\n"
     ]
    },
    {
     "name": "stderr",
     "output_type": "stream",
     "text": [
      " 39%|███▉      | 44/113 [01:35<02:27,  2.14s/it]"
     ]
    },
    {
     "name": "stdout",
     "output_type": "stream",
     "text": [
      "./brain_data/WANGXIAOJING\n"
     ]
    },
    {
     "name": "stderr",
     "output_type": "stream",
     "text": [
      " 42%|████▏     | 47/113 [01:41<02:22,  2.15s/it]"
     ]
    },
    {
     "name": "stdout",
     "output_type": "stream",
     "text": [
      "./brain_data/tangguoguang\n"
     ]
    },
    {
     "name": "stderr",
     "output_type": "stream",
     "text": [
      " 44%|████▍     | 50/113 [01:48<02:15,  2.15s/it]"
     ]
    },
    {
     "name": "stdout",
     "output_type": "stream",
     "text": [
      "./brain_data/liguowen\n"
     ]
    },
    {
     "name": "stderr",
     "output_type": "stream",
     "text": [
      " 48%|████▊     | 54/113 [01:56<02:07,  2.16s/it]"
     ]
    },
    {
     "name": "stdout",
     "output_type": "stream",
     "text": [
      "./brain_data/jiangjiafeng\n"
     ]
    },
    {
     "name": "stderr",
     "output_type": "stream",
     "text": [
      " 50%|█████     | 57/113 [02:03<01:58,  2.11s/it]"
     ]
    },
    {
     "name": "stdout",
     "output_type": "stream",
     "text": [
      "./brain_data/liliangtai\n"
     ]
    },
    {
     "name": "stderr",
     "output_type": "stream",
     "text": [
      " 58%|█████▊    | 65/113 [02:20<01:43,  2.17s/it]"
     ]
    },
    {
     "name": "stdout",
     "output_type": "stream",
     "text": [
      "./brain_data/wangxiangmei\n"
     ]
    },
    {
     "name": "stderr",
     "output_type": "stream",
     "text": [
      " 66%|██████▋   | 75/113 [02:42<01:22,  2.16s/it]"
     ]
    },
    {
     "name": "stdout",
     "output_type": "stream",
     "text": [
      "./brain_data/xuyuqi\n"
     ]
    },
    {
     "name": "stderr",
     "output_type": "stream",
     "text": [
      " 73%|███████▎  | 83/113 [02:59<01:04,  2.14s/it]"
     ]
    },
    {
     "name": "stdout",
     "output_type": "stream",
     "text": [
      "./brain_data/liujinxia\n"
     ]
    },
    {
     "name": "stderr",
     "output_type": "stream",
     "text": [
      "\r\n",
      " 74%|███████▍  | 84/113 [03:01<01:02,  2.15s/it]"
     ]
    },
    {
     "name": "stdout",
     "output_type": "stream",
     "text": [
      "./brain_data/ZHUOGENLIN\n"
     ]
    },
    {
     "name": "stderr",
     "output_type": "stream",
     "text": [
      "\r\n",
      " 75%|███████▌  | 85/113 [03:03<01:00,  2.15s/it]"
     ]
    },
    {
     "name": "stdout",
     "output_type": "stream",
     "text": [
      "./brain_data/zhangyongjing\n"
     ]
    },
    {
     "name": "stderr",
     "output_type": "stream",
     "text": [
      " 77%|███████▋  | 87/113 [03:07<00:56,  2.16s/it]"
     ]
    },
    {
     "name": "stdout",
     "output_type": "stream",
     "text": [
      "./brain_data/LIUSONGXIA\n"
     ]
    },
    {
     "name": "stderr",
     "output_type": "stream",
     "text": [
      " 85%|████████▍ | 96/113 [03:26<00:36,  2.13s/it]"
     ]
    },
    {
     "name": "stdout",
     "output_type": "stream",
     "text": [
      "./brain_data/liuchunyan\n"
     ]
    },
    {
     "name": "stderr",
     "output_type": "stream",
     "text": [
      " 93%|█████████▎| 105/113 [03:46<00:17,  2.17s/it]"
     ]
    },
    {
     "name": "stdout",
     "output_type": "stream",
     "text": [
      "./brain_data/luerzhuo\n"
     ]
    },
    {
     "name": "stderr",
     "output_type": "stream",
     "text": [
      " 98%|█████████▊| 111/113 [03:59<00:04,  2.16s/it]"
     ]
    },
    {
     "name": "stdout",
     "output_type": "stream",
     "text": [
      "./brain_data/luchunmei\n"
     ]
    },
    {
     "name": "stderr",
     "output_type": "stream",
     "text": [
      "\r\n",
      " 99%|█████████▉| 112/113 [04:01<00:02,  2.16s/it]"
     ]
    },
    {
     "name": "stdout",
     "output_type": "stream",
     "text": [
      "./brain_data/yuanaiping\n"
     ]
    },
    {
     "name": "stderr",
     "output_type": "stream",
     "text": [
      "100%|██████████| 113/113 [04:04<00:00,  2.16s/it]\n"
     ]
    }
   ],
   "source": [
    "import numpy as np\n",
    "import glob\n",
    "import SimpleITK as sitk\n",
    "from tqdm import tqdm\n",
    "import pydicom\n",
    "from skimage import measure, color\n",
    "import random\n",
    "\n",
    "file = glob.glob('./data/*')\n",
    "num=[]\n",
    "image = []\n",
    "mask = []\n",
    "qqq=[]\n",
    "imagefile = []\n",
    "maskfile = []\n",
    "nn=0\n",
    "for i in file:\n",
    "    mfile = glob.glob(i + '/*.nii.gz')\n",
    "    if len(mfile) == 0:\n",
    "        mfile = glob.glob(i + '/*.nii')\n",
    "    maskfile.append(mfile[0])\n",
    "\n",
    "for i in tqdm(range(len(file))):\n",
    "    dicomp=glob.glob(file[i]+'/*.dcm')\n",
    "    ds=pydicom.read_file(dicomp[0])\n",
    "    files = file[i].replace('data', 'brain_data')\n",
    "    iii = sitk.ReadImage(files + '/image.nii.gz')\n",
    "    #    iii = sitk.Cast(iii, sitk.sitkFloat32)\n",
    "    #    img_mask = sitk.BinaryNot(sitk.BinaryThreshold(iii, 0, 0))\n",
    "    #    iii = sitk.N4BiasFieldCorrection(iii, img_mask)\n",
    "    ii = sitk.GetArrayFromImage(iii)\n",
    "    ii=np.clip(ii,0,2000)\n",
    "    m = sitk.ReadImage(maskfile[i])\n",
    "    mm = sitk.GetArrayFromImage(m)\n",
    "    labels = measure.label(mm)\n",
    "    region = measure.regionprops(labels)\n",
    "    for j in region:\n",
    "        bbox = j.bbox\n",
    "        (x, y, z) = ((bbox[4] + bbox[1]) / 2, (bbox[5] + bbox[2]) / 2,\n",
    "                     (bbox[3] + bbox[0]) / 2)\n",
    "        (x, y, z) = (int(x), int(y), int(z))\n",
    "        \n",
    "        if z - 40 <= 0:\n",
    "            p = ii[0:80, x - 64:x + 64, y - 64:y + 64]\n",
    "            pp = mm[0:80, x - 64:x + 64, y - 64:y + 64]\n",
    "        elif z + 40 >= len(mm):\n",
    "            p = ii[len(mm) - 80:len(mm), x - 64:x + 64, y - 64:y + 64]\n",
    "            pp = mm[len(mm) - 80:len(mm), x - 64:x + 64, y - 64:y + 64]\n",
    "        else:\n",
    "            p = ii[z - 40:z + 40, x - 64:x + 64, y - 64:y + 64]\n",
    "            pp = mm[z - 40:z + 40, x - 64:x + 64, y - 64:y + 64]\n",
    "        \n",
    "        if np.any(pp[:,0:30,:])==1 or np.any(pp[:,100:128,:])==1 or np.any(pp[:,:,0:30])==1 or np.any(pp[:,:,100:128])==1:\n",
    "            nn+=1\n",
    "            qqq.append(bbox)\n",
    "            print(files)\n",
    "            np.save('./servered'+str(nn)+'.npy',p)\n",
    "            break\n",
    "np.save('./bbox.npy',qqq)      "
   ]
  }
 ],
 "metadata": {
  "interpreter": {
   "hash": "dbf0c2916404451d6666f64185d3515a1085cf1aee35ff94c5c8954fcdf6a35d"
  },
  "kernelspec": {
   "display_name": "Python 3.8.12 ('torch')",
   "language": "python",
   "name": "python3"
  },
  "language_info": {
   "codemirror_mode": {
    "name": "ipython",
    "version": 3
   },
   "file_extension": ".py",
   "mimetype": "text/x-python",
   "name": "python",
   "nbconvert_exporter": "python",
   "pygments_lexer": "ipython3",
   "version": "3.8.12"
  },
  "toc": {
   "base_numbering": 1,
   "nav_menu": {},
   "number_sections": true,
   "sideBar": true,
   "skip_h1_title": false,
   "title_cell": "Table of Contents",
   "title_sidebar": "Contents",
   "toc_cell": false,
   "toc_position": {},
   "toc_section_display": true,
   "toc_window_display": false
  },
  "varInspector": {
   "cols": {
    "lenName": 16,
    "lenType": 16,
    "lenVar": 40
   },
   "kernels_config": {
    "python": {
     "delete_cmd_postfix": "",
     "delete_cmd_prefix": "del ",
     "library": "var_list.py",
     "varRefreshCmd": "print(var_dic_list())"
    },
    "r": {
     "delete_cmd_postfix": ") ",
     "delete_cmd_prefix": "rm(",
     "library": "var_list.r",
     "varRefreshCmd": "cat(var_dic_list()) "
    }
   },
   "position": {
    "height": "410.938px",
    "left": "1822.75px",
    "right": "20px",
    "top": "402.75px",
    "width": "555px"
   },
   "types_to_exclude": [
    "module",
    "function",
    "builtin_function_or_method",
    "instance",
    "_Feature"
   ],
   "window_display": true
  }
 },
 "nbformat": 4,
 "nbformat_minor": 5
}
